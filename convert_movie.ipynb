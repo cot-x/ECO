{
 "cells": [
  {
   "cell_type": "code",
   "execution_count": null,
   "id": "dd389559-1119-4ac7-8508-41c2d659297b",
   "metadata": {},
   "outputs": [],
   "source": [
    "import os\n",
    "import subprocess"
   ]
  },
  {
   "cell_type": "code",
   "execution_count": null,
   "id": "9f2c29f1-497a-456b-a4cf-e9dbfb6f3194",
   "metadata": {},
   "outputs": [],
   "source": [
    "path = './movies'\n",
    "labels = os.listdir(path)\n",
    "\n",
    "for label in labels:\n",
    "    for file in os.listdir(os.path.join(path, label)):\n",
    "        name, ext = os.path.splitext(file)\n",
    "        if ext != '.mp4':\n",
    "            continue\n",
    "        dir_path = os.path.join(os.path.join(path, label), name)\n",
    "        file_path = os.path.join(os.path.join(path, label), file)\n",
    "        if not os.path.exists(dir_path):\n",
    "            os.mkdir(dir_path)\n",
    "        command = f'ffmpeg -i \\\"{file_path}\\\" -vf scale=-1:256 \\\"{dir_path}/image_%05d.jpg\\\"'\n",
    "        print(command)\n",
    "        subprocess.call(command, shell=True)\n",
    "print('Finished.')"
   ]
  }
 ],
 "metadata": {
  "kernelspec": {
   "display_name": "Python 3",
   "language": "python",
   "name": "python3"
  },
  "language_info": {
   "codemirror_mode": {
    "name": "ipython",
    "version": 3
   },
   "file_extension": ".py",
   "mimetype": "text/x-python",
   "name": "python",
   "nbconvert_exporter": "python",
   "pygments_lexer": "ipython3",
   "version": "3.8.5"
  }
 },
 "nbformat": 4,
 "nbformat_minor": 5
}
